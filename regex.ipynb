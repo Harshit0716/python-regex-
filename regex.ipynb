{
  "nbformat": 4,
  "nbformat_minor": 0,
  "metadata": {
    "colab": {
      "provenance": [],
      "authorship_tag": "ABX9TyM68BCiceI9oSvqxLRyDmdR",
      "include_colab_link": true
    },
    "kernelspec": {
      "name": "python3",
      "display_name": "Python 3"
    },
    "language_info": {
      "name": "python"
    }
  },
  "cells": [
    {
      "cell_type": "markdown",
      "metadata": {
        "id": "view-in-github",
        "colab_type": "text"
      },
      "source": [
        "<a href=\"https://colab.research.google.com/github/Harshit0716/python-regex-/blob/main/regex.ipynb\" target=\"_parent\"><img src=\"https://colab.research.google.com/assets/colab-badge.svg\" alt=\"Open In Colab\"/></a>"
      ]
    },
    {
      "cell_type": "markdown",
      "source": [
        "**PASSWORD VALIDATION IN PYTHON(WITH REGEX)**"
      ],
      "metadata": {
        "id": "i5ZvhKhMhqCJ"
      }
    },
    {
      "cell_type": "markdown",
      "source": [
        "Metacharacters\n",
        "'^' sign is used to search the pattern of the start of string.\n",
        "'$' sign is used to search the pattern of the end of the string"
      ],
      "metadata": {
        "id": "4eO51RnMzKCO"
      }
    },
    {
      "cell_type": "code",
      "execution_count": null,
      "metadata": {
        "id": "vvKse9kyy38d"
      },
      "outputs": [],
      "source": [
        "import re"
      ]
    },
    {
      "cell_type": "code",
      "source": [
        "sl = 'lions are fearless'\n",
        "p= '^lions'\n",
        "s='lions$'\n",
        "print(re.search(p, sl))\n",
        "print(re.search(s, sl))"
      ],
      "metadata": {
        "colab": {
          "base_uri": "https://localhost:8080/"
        },
        "id": "7oIRMioGzHr-",
        "outputId": "a49f1b50-266a-4064-a7e2-549fcca6ccd2"
      },
      "execution_count": null,
      "outputs": [
        {
          "output_type": "stream",
          "name": "stdout",
          "text": [
            "<re.Match object; span=(0, 5), match='lions'>\n",
            "None\n"
          ]
        }
      ]
    },
    {
      "cell_type": "markdown",
      "source": [
        "Quantifiers\n",
        "?+*\n",
        "\n",
        "'?' means 0 and 1 occurence of preceding element."
      ],
      "metadata": {
        "id": "bGzFV4BdzFrf"
      }
    },
    {
      "cell_type": "code",
      "source": [
        "st2='color'\n",
        "st3='colour'\n",
        "re.search('colou?r', st2)"
      ],
      "metadata": {
        "colab": {
          "base_uri": "https://localhost:8080/"
        },
        "id": "kYiw00Mt1kPJ",
        "outputId": "13afb567-4329-4510-c230-8ebe84cdd383"
      },
      "execution_count": null,
      "outputs": [
        {
          "output_type": "execute_result",
          "data": {
            "text/plain": [
              "<re.Match object; span=(0, 5), match='color'>"
            ]
          },
          "metadata": {},
          "execution_count": 6
        }
      ]
    },
    {
      "cell_type": "code",
      "source": [
        "re.search('colou?r', st3)"
      ],
      "metadata": {
        "colab": {
          "base_uri": "https://localhost:8080/"
        },
        "id": "yLM7jMys4QOh",
        "outputId": "1157ef6d-d005-450b-ee69-31e2f4a702d0"
      },
      "execution_count": null,
      "outputs": [
        {
          "output_type": "execute_result",
          "data": {
            "text/plain": [
              "<re.Match object; span=(0, 6), match='colour'>"
            ]
          },
          "metadata": {},
          "execution_count": 7
        }
      ]
    },
    {
      "cell_type": "markdown",
      "source": [
        "'+' means one or more occurence of preceding element."
      ],
      "metadata": {
        "id": "PkTkX-604fQw"
      }
    },
    {
      "cell_type": "code",
      "source": [
        "l='ac'\n",
        "m='abc'\n",
        "s='abbc'\n",
        "re.search('ab+c', m)"
      ],
      "metadata": {
        "colab": {
          "base_uri": "https://localhost:8080/"
        },
        "id": "Cgu8DFEy4f_v",
        "outputId": "fbfd81dd-4e71-4d25-f700-231b86b70344"
      },
      "execution_count": null,
      "outputs": [
        {
          "output_type": "execute_result",
          "data": {
            "text/plain": [
              "<re.Match object; span=(0, 3), match='abc'>"
            ]
          },
          "metadata": {},
          "execution_count": 8
        }
      ]
    },
    {
      "cell_type": "markdown",
      "source": [],
      "metadata": {
        "id": "MXV7OEH6Xf2r"
      }
    },
    {
      "cell_type": "markdown",
      "source": [
        "Metacharacters\n",
        "'-' means a range (for example[0-9])\n",
        "'.' means any single character except a new line."
      ],
      "metadata": {
        "id": "AawEaFEN5jXh"
      }
    },
    {
      "cell_type": "markdown",
      "source": [
        "Metacharacters\n",
        "#Sets--set is a list of characters inside a pair of square brackets\n",
        "[]\n",
        "[^a-n]--all alphabets but not between [a-n];\n",
        "[0145]--will search particular element;\n",
        "[0-9][0-5]--search fun return a match object for two digit no. from 00-59;\n",
        "[a-Z]--will return all character from lower case 'a' to upper case 'Z';\n",
        "\n"
      ],
      "metadata": {
        "id": "vsGZ9HGlYzZv"
      }
    },
    {
      "cell_type": "code",
      "source": [
        "trv='birds are pretty'\n",
        "re.findall('[p-y]','birds are pretty')"
      ],
      "metadata": {
        "colab": {
          "base_uri": "https://localhost:8080/"
        },
        "id": "RqvKt41hXgOy",
        "outputId": "5107300b-0a30-49a9-8208-47a4580fb304"
      },
      "execution_count": null,
      "outputs": [
        {
          "output_type": "execute_result",
          "data": {
            "text/plain": [
              "['r', 's', 'r', 'p', 'r', 't', 't', 'y']"
            ]
          },
          "metadata": {},
          "execution_count": 8
        }
      ]
    },
    {
      "cell_type": "markdown",
      "source": [
        "#special sequences\n",
        "\\d [0-9]\n",
        "\\w [0-9a-Z_]"
      ],
      "metadata": {
        "id": "nLJgiBPHebF9"
      }
    },
    {
      "cell_type": "markdown",
      "source": [
        "serach fun. returns match object;\n",
        "findall fun. returns a list of what is found in a string."
      ],
      "metadata": {
        "id": "r5vIEebAfu7W"
      }
    },
    {
      "cell_type": "code",
      "source": [
        "re.findall('\\d', 'eon has 34 cars')"
      ],
      "metadata": {
        "colab": {
          "base_uri": "https://localhost:8080/"
        },
        "id": "Plzu-wjyfA7S",
        "outputId": "5c4dacfa-b816-400d-a2ac-39f5d3b0c934"
      },
      "execution_count": null,
      "outputs": [
        {
          "output_type": "execute_result",
          "data": {
            "text/plain": [
              "['3', '4']"
            ]
          },
          "metadata": {},
          "execution_count": 9
        }
      ]
    },
    {
      "cell_type": "code",
      "source": [
        "re.findall('\\w', 'my land_owner gives 99500 to me')"
      ],
      "metadata": {
        "colab": {
          "base_uri": "https://localhost:8080/"
        },
        "id": "H-sMGDSxgGrS",
        "outputId": "2060ef1a-5bde-436d-b10f-4e4eca37e47e"
      },
      "execution_count": null,
      "outputs": [
        {
          "output_type": "execute_result",
          "data": {
            "text/plain": [
              "['m',\n",
              " 'y',\n",
              " 'l',\n",
              " 'a',\n",
              " 'n',\n",
              " 'd',\n",
              " '_',\n",
              " 'o',\n",
              " 'w',\n",
              " 'n',\n",
              " 'e',\n",
              " 'r',\n",
              " 'g',\n",
              " 'i',\n",
              " 'v',\n",
              " 'e',\n",
              " 's',\n",
              " '9',\n",
              " '9',\n",
              " '5',\n",
              " '0',\n",
              " '0',\n",
              " 't',\n",
              " 'o',\n",
              " 'm',\n",
              " 'e']"
            ]
          },
          "metadata": {},
          "execution_count": 10
        }
      ]
    },
    {
      "cell_type": "markdown",
      "source": [
        "#PASSWORD VALIDATION in PYTHON(With REGEX)\n",
        "You need to write regex that will validate a password to make sure it meets ALL the following criteria:\n",
        "\n",
        "\n",
        "*   At least 8 characters\n",
        "*   uppercase letters: A-Z\n",
        "*   lowercase letters: a-z\n",
        "*   numbers:0-9\n",
        "*   any of the special characters: @#$%^&+-\n",
        "\n",
        "Letters/numbers/special charcters are **optional**.\n",
        "\n",
        "\n",
        "\n",
        "\n",
        "\n",
        "\n",
        "\n",
        "\n",
        "\n"
      ],
      "metadata": {
        "id": "9OCHcm9viGFG"
      }
    },
    {
      "cell_type": "code",
      "source": [
        "regex='[A-Za-z0-9@#$%^&+-]{8,}'\n",
        "pwd=input('enter a password:')"
      ],
      "metadata": {
        "colab": {
          "base_uri": "https://localhost:8080/"
        },
        "id": "ckAL9Qikk2YG",
        "outputId": "f1e032ae-9b08-4479-f07e-434c4790fd27"
      },
      "execution_count": null,
      "outputs": [
        {
          "name": "stdout",
          "output_type": "stream",
          "text": [
            "enter a password:Rat12345\n"
          ]
        }
      ]
    },
    {
      "cell_type": "code",
      "source": [
        "if re.fullmatch(regex,pwd):\n",
        "  print(\"conrats,there is a match\")\n",
        "else:\n",
        "  print(\"sorry,there is no match\")"
      ],
      "metadata": {
        "id": "GN6jQcdqmE3U",
        "colab": {
          "base_uri": "https://localhost:8080/"
        },
        "outputId": "c679b51c-cb39-446b-d9e5-0a93f83febd6"
      },
      "execution_count": null,
      "outputs": [
        {
          "output_type": "stream",
          "name": "stdout",
          "text": [
            "conrats,there is a match\n"
          ]
        }
      ]
    },
    {
      "cell_type": "markdown",
      "source": [
        "You need to write regex that will validate a password to make sure it meets ALL the following criteria:"
      ],
      "metadata": {
        "id": "hw8MN5Hqy4D6"
      }
    },
    {
      "cell_type": "code",
      "source": [
        "reg='(?=.*[A-Z])(?=.*[a-z])(?=.*[0-9]{6,})'\n"
      ],
      "metadata": {
        "id": "EGYlop0Czk4B"
      },
      "execution_count": null,
      "outputs": []
    },
    {
      "cell_type": "code",
      "source": [
        "if re.fullmatch(reg,pwd):\n",
        "  print(\"match\")\n",
        "else:\n",
        "  print(\"nomatch\")"
      ],
      "metadata": {
        "colab": {
          "base_uri": "https://localhost:8080/"
        },
        "id": "utol6u9u14fq",
        "outputId": "a4fcd34e-3943-4e71-99bd-35c5bdee3158"
      },
      "execution_count": null,
      "outputs": [
        {
          "output_type": "stream",
          "name": "stdout",
          "text": [
            "nomatch\n"
          ]
        }
      ]
    },
    {
      "cell_type": "markdown",
      "source": [
        "# **task-4: user input**\n",
        "#Time Format Validation\n",
        "A web application calculates health statistics based on sleep duration of your users. Your users enter the time they went to bed and the time they wake up. An example for a correct time format is 12:45\n",
        "\n",
        "Write a time format checker that determines whether the input is worth processing further with your backend application."
      ],
      "metadata": {
        "id": "MBzSFyNM4owS"
      }
    },
    {
      "cell_type": "code",
      "source": [
        "int1='14:56'\n",
        "print(re.fullmatch('[0-9]{2}:[0-9]{2}',int1))"
      ],
      "metadata": {
        "colab": {
          "base_uri": "https://localhost:8080/"
        },
        "id": "FxinY_Ws6qI_",
        "outputId": "60639b84-3ce0-43e1-9699-50f4c2a894dc"
      },
      "execution_count": null,
      "outputs": [
        {
          "output_type": "stream",
          "name": "stdout",
          "text": [
            "<re.Match object; span=(0, 5), match='14:56'>\n"
          ]
        }
      ]
    },
    {
      "cell_type": "code",
      "source": [
        "inputs=['18:38','123','ab:hj','90:09','21:29']\n",
        "[re.fullmatch('[0-9]{2}:[0-9]{2}', x) for x in inputs]"
      ],
      "metadata": {
        "colab": {
          "base_uri": "https://localhost:8080/"
        },
        "id": "nMVouYEZ82xa",
        "outputId": "27e6ce0c-8002-4b60-dcce-c4ccfc09ed50"
      },
      "execution_count": null,
      "outputs": [
        {
          "output_type": "execute_result",
          "data": {
            "text/plain": [
              "[<re.Match object; span=(0, 5), match='18:38'>,\n",
              " None,\n",
              " None,\n",
              " <re.Match object; span=(0, 5), match='90:09'>,\n",
              " <re.Match object; span=(0, 5), match='21:29'>]"
            ]
          },
          "metadata": {},
          "execution_count": 38
        }
      ]
    },
    {
      "cell_type": "markdown",
      "source": [
        "Next,the given time must be a valid time format in the 24-hour time ranging from 00:00 to 23:59"
      ],
      "metadata": {
        "id": "z-9ZW8q36uog"
      }
    },
    {
      "cell_type": "code",
      "source": [
        "rt='([01][0-9]|2[0-3]):([0-5][0-9])'\n",
        "[re.fullmatch(rt, x) for x in inputs]"
      ],
      "metadata": {
        "colab": {
          "base_uri": "https://localhost:8080/"
        },
        "id": "oLmUVe4x_F6p",
        "outputId": "522e0aaa-e37f-4e84-9be4-fcefdd1b71ba"
      },
      "execution_count": null,
      "outputs": [
        {
          "output_type": "execute_result",
          "data": {
            "text/plain": [
              "[<re.Match object; span=(0, 5), match='18:38'>,\n",
              " None,\n",
              " None,\n",
              " None,\n",
              " <re.Match object; span=(0, 5), match='21:29'>]"
            ]
          },
          "metadata": {},
          "execution_count": 39
        }
      ]
    },
    {
      "cell_type": "markdown",
      "source": [
        "#Email Validation"
      ],
      "metadata": {
        "id": "dgbpdEwlCI0b"
      }
    },
    {
      "cell_type": "code",
      "source": [
        "vlogs=['rog324@gmail.com','e_sca132@outlook.com','s.rog766@outlook.com']\n",
        "regex='^(\\w|\\.|\\_|\\-)+[@]\\w+[.]\\w{2,3}$'\n",
        "[re.fullmatch(regex, x)for x in vlogs]"
      ],
      "metadata": {
        "colab": {
          "base_uri": "https://localhost:8080/"
        },
        "id": "38rQhqbjCVYG",
        "outputId": "7973b260-ed55-49bd-c85d-466030f23f77"
      },
      "execution_count": null,
      "outputs": [
        {
          "output_type": "execute_result",
          "data": {
            "text/plain": [
              "[<re.Match object; span=(0, 16), match='rog324@gmail.com'>,\n",
              " <re.Match object; span=(0, 20), match='e_sca132@outlook.com'>,\n",
              " <re.Match object; span=(0, 20), match='s.rog766@outlook.com'>]"
            ]
          },
          "metadata": {},
          "execution_count": 3
        }
      ]
    },
    {
      "cell_type": "code",
      "source": [
        "string='From: steve_dou@outlook.com,alex.drake@hotmail.fr,olo.mon123@gmail.com'\n",
        "print(re.findall('From:.+?@',string))"
      ],
      "metadata": {
        "colab": {
          "base_uri": "https://localhost:8080/"
        },
        "id": "uq7jVhsUaCCW",
        "outputId": "c2d097c3-e7af-4b88-f005-17847660d80d"
      },
      "execution_count": null,
      "outputs": [
        {
          "output_type": "stream",
          "name": "stdout",
          "text": [
            "['From: steve_dou@']\n"
          ]
        }
      ]
    },
    {
      "cell_type": "markdown",
      "source": [
        "#Username Validation\n",
        "\n",
        "username is character only allowing for_underscore and only"
      ],
      "metadata": {
        "id": "xj-Ya-crE8Th"
      }
    },
    {
      "cell_type": "code",
      "source": [
        "input=['a_roger','aroger','a.roger_de','a.roger_2']\n",
        "regex='^[A-Za-z_.]+$'\n",
        "[re.fullmatch(regex, x) for x in input]"
      ],
      "metadata": {
        "colab": {
          "base_uri": "https://localhost:8080/"
        },
        "id": "5nKaSv6jFv1p",
        "outputId": "0a5c38ee-4b30-404b-c562-09bde5947260"
      },
      "execution_count": null,
      "outputs": [
        {
          "output_type": "execute_result",
          "data": {
            "text/plain": [
              "[<re.Match object; span=(0, 7), match='a_roger'>,\n",
              " <re.Match object; span=(0, 6), match='aroger'>,\n",
              " <re.Match object; span=(0, 10), match='a.roger_de'>,\n",
              " None]"
            ]
          },
          "metadata": {},
          "execution_count": 4
        }
      ]
    },
    {
      "cell_type": "markdown",
      "source": [
        "#Question mark ?\n",
        "\n",
        "Question mark ? is the 'option' regex meaning 0 or 1 occurance.\n",
        "\n",
        "Question mark ? can also be used in combination with other special characters and means something else\n",
        "\n",
        "astrick * means 0 or more occurence of the preceding element\n",
        "\n",
        "By default, the engine returns \"more occurence\"(greedy).If we want to force the 0 occurences, we use ? after the  * (non-greedy)."
      ],
      "metadata": {
        "id": "HkJUrMC_ILxH"
      }
    },
    {
      "cell_type": "code",
      "source": [
        "text='asdwercfvxhgtyyu'\n",
        "print(re.findall('as.*',text))"
      ],
      "metadata": {
        "colab": {
          "base_uri": "https://localhost:8080/"
        },
        "id": "txEaEl7WJq53",
        "outputId": "060fbf76-680d-4117-c47f-294361adeb64"
      },
      "execution_count": null,
      "outputs": [
        {
          "output_type": "stream",
          "name": "stdout",
          "text": [
            "['asdwercfvxhgtyyu']\n"
          ]
        }
      ]
    },
    {
      "cell_type": "code",
      "source": [
        "print(re.findall('as.*?',text))"
      ],
      "metadata": {
        "colab": {
          "base_uri": "https://localhost:8080/"
        },
        "id": "xr-KIvKsL5qp",
        "outputId": "f42f9b7c-a516-4c9f-d01d-206bd61acd07"
      },
      "execution_count": null,
      "outputs": [
        {
          "output_type": "stream",
          "name": "stdout",
          "text": [
            "['as']\n"
          ]
        }
      ]
    },
    {
      "cell_type": "code",
      "source": [
        "trt='peter piper picked a pack of pickled peppers'\n",
        "re.findall('p.*e.*r',trt)"
      ],
      "metadata": {
        "colab": {
          "base_uri": "https://localhost:8080/"
        },
        "id": "h_kqjSVQMBuh",
        "outputId": "b382a749-2247-410c-a5f1-629a322d7f22"
      },
      "execution_count": null,
      "outputs": [
        {
          "output_type": "execute_result",
          "data": {
            "text/plain": [
              "['peter piper picked a pack of pickled pepper']"
            ]
          },
          "metadata": {},
          "execution_count": 9
        }
      ]
    },
    {
      "cell_type": "code",
      "source": [
        "re.findall('p.*?e.*?r',trt)"
      ],
      "metadata": {
        "colab": {
          "base_uri": "https://localhost:8080/"
        },
        "id": "eMRj8BhSMszu",
        "outputId": "0358bea4-d599-4993-ab37-3872f4955d9e"
      },
      "execution_count": null,
      "outputs": [
        {
          "output_type": "execute_result",
          "data": {
            "text/plain": [
              "['peter', 'piper', 'picked a pack of pickled pepper']"
            ]
          },
          "metadata": {},
          "execution_count": 10
        }
      ]
    },
    {
      "cell_type": "markdown",
      "source": [
        "#Problem 1\n",
        "\n",
        "Find a match that starts with 'crypto',then matches at the most 30 arbitary characters and match ends when the last word is 'coin'"
      ],
      "metadata": {
        "id": "lJWNiU2bNSNW"
      }
    },
    {
      "cell_type": "code",
      "source": [
        "tt='crypto-bot that is trading Bitcoin and other currencies'\n",
        "print(re.match('crypto(.{1,30})coin', tt))"
      ],
      "metadata": {
        "colab": {
          "base_uri": "https://localhost:8080/"
        },
        "id": "yXZ_z6GBN2QQ",
        "outputId": "f7e7290a-60be-4fff-cff7-700fe35077d8"
      },
      "execution_count": null,
      "outputs": [
        {
          "output_type": "stream",
          "name": "stdout",
          "text": [
            "<re.Match object; span=(0, 34), match='crypto-bot that is trading Bitcoin'>\n"
          ]
        }
      ]
    },
    {
      "cell_type": "code",
      "source": [],
      "metadata": {
        "colab": {
          "base_uri": "https://localhost:8080/"
        },
        "id": "LTAB1dGsPo6o",
        "outputId": "b9541724-c123-41a4-bbb0-c341c222e727"
      },
      "execution_count": null,
      "outputs": [
        {
          "output_type": "stream",
          "name": "stdout",
          "text": [
            "None\n"
          ]
        }
      ]
    },
    {
      "cell_type": "markdown",
      "source": [
        "#Problem 2\n",
        "\n",
        "Given a string, find a list of all occurences of dollar amounts with optional Regular Expressions decimal values"
      ],
      "metadata": {
        "id": "jgiUHG4FN91t"
      }
    },
    {
      "cell_type": "code",
      "source": [
        "text='''\n",
        "if you invested $1 in the year 1801, you would have $19087791.41 today.\n",
        "This is a 7.967% return of investment.\n",
        "But if you invested only $0.25 in 1801, you would end up with $4521947.8525.\n",
        "'''\n",
        "re.findall('(\\$[0-9]+(\\.[0-9]*)?)', text)"
      ],
      "metadata": {
        "colab": {
          "base_uri": "https://localhost:8080/"
        },
        "id": "P6yScln9OUYX",
        "outputId": "d793b221-5085-499f-83a7-a28a76a57d28"
      },
      "execution_count": null,
      "outputs": [
        {
          "output_type": "execute_result",
          "data": {
            "text/plain": [
              "[('$1', ''),\n",
              " ('$19087791.41', '.41'),\n",
              " ('$0.25', '.25'),\n",
              " ('$4521947.8525', '.8525')]"
            ]
          },
          "metadata": {},
          "execution_count": 29
        }
      ]
    },
    {
      "cell_type": "markdown",
      "source": [
        "#Problem 3\n",
        "\n",
        "Replace Alice Wonderland with 'Alice Doe',but not to replace occurences of 'Alice Wonderland' when you see single qoutes. introducing the'?!' Negative lookahead."
      ],
      "metadata": {
        "id": "mDja6s1wV0aa"
      }
    },
    {
      "cell_type": "code",
      "source": [
        "text='''\n",
        "Alice Wonderland married Jhon Dou.\n",
        "The new name of former 'Alice Wonderland' is Alice Dou.\n",
        "Alice Wonderland replaces her old name 'Wonderland' with her new name 'Dou'.\n",
        "Alices's sister Jane Wonderland still keeps her old name.\n",
        "'''\n",
        "re.sub(\"Alice Wonderland(?!')\",'Alice Dou',text)"
      ],
      "metadata": {
        "colab": {
          "base_uri": "https://localhost:8080/",
          "height": 53
        },
        "id": "fZdvYP30WgEJ",
        "outputId": "393428ac-cfc7-416f-f4d9-45fb04422b89"
      },
      "execution_count": null,
      "outputs": [
        {
          "output_type": "execute_result",
          "data": {
            "text/plain": [
              "\"\\nAlice Dou married Jhon Dou.\\nThe new name of former 'Alice Wonderland' is Alice Dou.\\nAlice Dou replaces her old name 'Wonderland' with her new name 'Dou'.\\nAlices's sister Jane Wonderland still keeps her old name.\\n\""
            ],
            "application/vnd.google.colaboratory.intrinsic+json": {
              "type": "string"
            }
          },
          "metadata": {},
          "execution_count": 30
        }
      ]
    }
  ]
}